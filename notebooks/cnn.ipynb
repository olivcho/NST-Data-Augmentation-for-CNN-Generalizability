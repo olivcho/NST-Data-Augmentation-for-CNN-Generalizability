{
 "cells": [
  {
   "cell_type": "code",
   "execution_count": 1,
   "metadata": {},
   "outputs": [],
   "source": [
    "import torch\n",
    "import torch.nn as nn\n",
    "import numpy as np\n",
    "import pandas as pd\n",
    "import matplotlib.pyplot as plt\n",
    "import cv2\n",
    "from PIL import Image\n",
    "import os\n",
    "import glob\n",
    "\n",
    "import tqdm\n",
    "from sklearn.preprocessing import StandardScaler\n",
    "from sklearn.model_selection import train_test_split\n",
    "from torch.utils.data import TensorDataset, DataLoader"
   ]
  },
  {
   "cell_type": "code",
   "execution_count": 73,
   "metadata": {},
   "outputs": [
    {
     "name": "stdout",
     "output_type": "stream",
     "text": [
      "chainsaw: 858 images\n",
      "gas_pump: 931 images\n",
      "tench: 963 images\n",
      "french_horn: 956 images\n",
      "church: 941 images\n",
      "english_springer: 955 images\n",
      "golf_ball: 951 images\n",
      "garbage_truck: 961 images\n",
      "parachute: 960 images\n",
      "cassette_player: 993 images\n",
      "\n",
      "Total images across all folders: 9469\n"
     ]
    }
   ],
   "source": [
    "data_path = \"/Users/olicho/Desktop/Programming/adversarial-style-transfer/data/source_images\"\n",
    "\n",
    "total_images = 0\n",
    "for folder in os.listdir(data_path):\n",
    "    if os.path.isdir(os.path.join(data_path, folder)):\n",
    "        folder_path = os.path.join(data_path, folder)\n",
    "        images = [f for f in os.listdir(folder_path) if os.path.isfile(os.path.join(folder_path, f))]\n",
    "        print(f\"{folder}: {len(images)} images\")\n",
    "        total_images += len(images)\n",
    "print(f\"\\nTotal images across all folders: {total_images}\")"
   ]
  },
  {
   "cell_type": "markdown",
   "metadata": {},
   "source": [
    "# Data Preprocessing"
   ]
  },
  {
   "cell_type": "code",
   "execution_count": 14,
   "metadata": {},
   "outputs": [],
   "source": [
    "data_path = \"/Users/olicho/Desktop/Programming/adversarial-style-transfer/data/source_images\"\n",
    "\n",
    "def rename_images(base_path):\n",
    "\n",
    "    subfolders = [f for f in os.listdir(base_path)]\n",
    "\n",
    "    for subfolder in subfolders:\n",
    "        subfolder_path = os.path.join(base_path, subfolder)\n",
    "\n",
    "        files = glob.glob(os.path.join(subfolder_path, \"*\"))\n",
    "\n",
    "        for i, file_path in enumerate(files):\n",
    "            _, ext = os.path.splitext(file_path)\n",
    "            new_path = os.path.join(subfolder_path, f\"{subfolder}_{i}{ext}\")\n",
    "            os.rename(file_path, new_path)\n",
    "\n",
    "rename_images(data_path)"
   ]
  },
  {
   "cell_type": "code",
   "execution_count": 48,
   "metadata": {},
   "outputs": [
    {
     "name": "stderr",
     "output_type": "stream",
     "text": [
      "Processing chainsaw: 100%|██████████| 858/858 [00:00<00:00, 1052.52it/s]\n",
      "Processing gas_pump: 100%|██████████| 931/931 [00:01<00:00, 771.79it/s]\n",
      "Processing tench: 100%|██████████| 963/963 [00:01<00:00, 941.83it/s]\n",
      "Processing french_horn: 100%|██████████| 956/956 [00:00<00:00, 1322.82it/s]\n",
      "Processing church: 100%|██████████| 941/941 [00:00<00:00, 1218.35it/s]\n",
      "Processing english_springer: 100%|██████████| 955/955 [00:00<00:00, 1198.13it/s]\n",
      "Processing golf_ball: 100%|██████████| 951/951 [00:01<00:00, 715.09it/s]\n",
      "Processing garbage_truck: 100%|██████████| 961/961 [00:01<00:00, 685.38it/s]\n",
      "Processing parachute: 100%|██████████| 960/960 [00:01<00:00, 733.18it/s]\n",
      "Processing cassette_player: 100%|██████████| 993/993 [00:01<00:00, 749.97it/s]\n"
     ]
    },
    {
     "name": "stdout",
     "output_type": "stream",
     "text": [
      "Training set shape: torch.Size([7575, 3, 64, 64])\n",
      "Validation set shape: torch.Size([947, 3, 64, 64])\n",
      "Test set shape: torch.Size([947, 3, 64, 64])\n",
      "\n",
      "Class mapping: {'chainsaw': 0, 'gas_pump': 1, 'tench': 2, 'french_horn': 3, 'church': 4, 'english_springer': 5, 'golf_ball': 6, 'garbage_truck': 7, 'parachute': 8, 'cassette_player': 9}\n"
     ]
    }
   ],
   "source": [
    "def load_and_preprocess_images(data_path, target_size=(64, 64)):\n",
    "    images = []\n",
    "    labels = []\n",
    "    label_map = {}\n",
    "    \n",
    "    # Get all subfolders (classes)\n",
    "    subfolders = [f for f in os.listdir(data_path) if os.path.isdir(os.path.join(data_path, f))]\n",
    "    \n",
    "    # Create label mapping\n",
    "    for idx, folder in enumerate(subfolders):\n",
    "        label_map[folder] = idx\n",
    "    \n",
    "    # Load and preprocess images from each subfolder\n",
    "    for subfolder in subfolders:\n",
    "        subfolder_path = os.path.join(data_path, subfolder)\n",
    "        files = glob.glob(os.path.join(subfolder_path, \"*\"))\n",
    "        \n",
    "        for file_path in tqdm.tqdm(files, desc=f\"Processing {subfolder}\"):\n",
    "            # Load image\n",
    "            img = Image.open(file_path).convert('RGB')  # Ensure RGB format\n",
    "            \n",
    "            # Resize \n",
    "            img = img.resize(target_size, Image.LANCZOS)\n",
    "            \n",
    "            # Convert to numpy array and normalize\n",
    "            img_array = np.array(img) / 255.0\n",
    "            \n",
    "            images.append(img_array)\n",
    "            labels.append(label_map[subfolder])\n",
    "    \n",
    "    # Convert to numpy arrays\n",
    "    X = np.array(images)\n",
    "    y = np.array(labels)\n",
    "    \n",
    "    # Reshape for PyTorch (N, C, H, W)\n",
    "    X = X.transpose(0, 3, 1, 2)  # Rearrange from (N, H, W, C) to (N, C, H, W)\n",
    "    \n",
    "    return X, y, label_map\n",
    "\n",
    "# Load and preprocess all images\n",
    "X, y, label_map = load_and_preprocess_images(data_path)\n",
    "\n",
    "# First split into train and temp (80-20)\n",
    "X_train, X_temp, y_train, y_temp = train_test_split(X, y, test_size=0.2, random_state=42, stratify=y)\n",
    "\n",
    "# Split temp into validation and test (50-50, meaning 10-10 of original data)\n",
    "X_val, X_test, y_val, y_test = train_test_split(X_temp, y_temp, test_size=0.5, random_state=42, stratify=y_temp)\n",
    "\n",
    "# Convert to PyTorch tensors\n",
    "X_train = torch.FloatTensor(X_train)\n",
    "X_val = torch.FloatTensor(X_val)\n",
    "X_test = torch.FloatTensor(X_test)\n",
    "y_train = torch.LongTensor(y_train)\n",
    "y_val = torch.LongTensor(y_val)\n",
    "y_test = torch.LongTensor(y_test)\n",
    "\n",
    "print(f\"Training set shape: {X_train.shape}\")\n",
    "print(f\"Validation set shape: {X_val.shape}\")\n",
    "print(f\"Test set shape: {X_test.shape}\")\n",
    "print(f\"\\nClass mapping: {label_map}\")\n"
   ]
  },
  {
   "cell_type": "code",
   "execution_count": 49,
   "metadata": {},
   "outputs": [
    {
     "name": "stdout",
     "output_type": "stream",
     "text": [
      "torch.Size([7575, 3, 64, 64, 947, 3, 64, 64, 947, 3, 64, 64])\n"
     ]
    }
   ],
   "source": [
    "print(X_train.shape + X_test.shape + X_val.shape)"
   ]
  },
  {
   "cell_type": "code",
   "execution_count": 50,
   "metadata": {},
   "outputs": [],
   "source": [
    "# Create data loaders\n",
    "batch_size = 32\n",
    "\n",
    "# Create datasets\n",
    "train_dataset = TensorDataset(X_train, y_train)\n",
    "val_dataset = TensorDataset(X_val, y_val)\n",
    "test_dataset = TensorDataset(X_test, y_test)\n",
    "\n",
    "# Create data loaders\n",
    "train_loader = DataLoader(train_dataset, batch_size=batch_size, shuffle=True)\n",
    "val_loader = DataLoader(val_dataset, batch_size=batch_size)\n",
    "test_loader = DataLoader(test_dataset, batch_size=batch_size)"
   ]
  },
  {
   "cell_type": "markdown",
   "metadata": {},
   "source": [
    "# Model Architecture"
   ]
  },
  {
   "cell_type": "code",
   "execution_count": 56,
   "metadata": {},
   "outputs": [],
   "source": [
    "class ObjectRecognition(nn.Module):\n",
    "    def __init__(self):\n",
    "        super(ObjectRecognition, self).__init__()\n",
    "        self.conv1 = nn.Conv2d(in_channels=3, out_channels=32, kernel_size=3, padding=1)\n",
    "        self.mp1 = nn.MaxPool2d(kernel_size=2, stride=2)  # Output: 32x32x32\n",
    "        self.conv2 = nn.Conv2d(in_channels=32, out_channels=64, kernel_size=3, padding=1)\n",
    "        self.mp2 = nn.MaxPool2d(kernel_size=2, stride=2)  # Output: 64x16x16\n",
    "        self.conv3 = nn.Conv2d(in_channels=64, out_channels=128, kernel_size=3, padding=1)\n",
    "        self.mp3 = nn.MaxPool2d(kernel_size=2, stride=2)  # Output: 128x8x8\n",
    "\n",
    "        self.bn1 = nn.BatchNorm2d(32)\n",
    "        self.bn2 = nn.BatchNorm2d(64)\n",
    "        self.bn3 = nn.BatchNorm2d(128)\n",
    "\n",
    "        self.dropout = nn.Dropout(0.4)\n",
    "\n",
    "        self.fc1 = nn.Linear(8192, 256)\n",
    "        self.fc2 = nn.Linear(256, 128)\n",
    "        self.fc3 = nn.Linear(128, 10) # 10 classes\n",
    "\n",
    "        self.relu = nn.ReLU()\n",
    "\n",
    "    def forward(self, x):\n",
    "        # Input shape: Bx3x64x64\n",
    "        x = self.mp1(self.bn1(self.relu(self.conv1(x))))  # Bx32x32x32\n",
    "        x = self.mp2(self.bn2(self.relu(self.conv2(x))))  # Bx64x16x16\n",
    "        x = self.mp3(self.bn3(self.relu(self.conv3(x))))  # Bx128x8x8\n",
    "\n",
    "        x = torch.flatten(x, 1)  # Bx(128*8*8)\n",
    "        x = self.dropout(x)\n",
    "        x = self.relu(self.fc1(x))  # Bx512\n",
    "        x = self.dropout(x)\n",
    "        x = self.relu(self.fc2(x))  # Bx128\n",
    "        x = self.fc3(x)  # Bx10\n",
    "\n",
    "        return x"
   ]
  },
  {
   "cell_type": "markdown",
   "metadata": {},
   "source": [
    "# Training"
   ]
  },
  {
   "cell_type": "code",
   "execution_count": 68,
   "metadata": {},
   "outputs": [],
   "source": [
    "model = ObjectRecognition()\n",
    "\n",
    "criterion = nn.CrossEntropyLoss()\n",
    "optimizer = torch.optim.Adam(model.parameters(), lr=0.0001)\n",
    "# optimizer = torch.optim.AdamW(model.parameters(), lr=0.0001, weight_decay=0.00001)\n",
    "# optimizer = torch.optim.SGD(model.parameters(), lr=0.0001, momentum=0.9)\n",
    "epochs = 8"
   ]
  },
  {
   "cell_type": "code",
   "execution_count": 71,
   "metadata": {},
   "outputs": [
    {
     "name": "stderr",
     "output_type": "stream",
     "text": [
      "Epoch 1/8:   9%|▉         | 21/237 [00:02<00:24,  8.94it/s, loss=0.487]\n"
     ]
    },
    {
     "ename": "KeyboardInterrupt",
     "evalue": "",
     "output_type": "error",
     "traceback": [
      "\u001b[31m---------------------------------------------------------------------------\u001b[39m",
      "\u001b[31mKeyboardInterrupt\u001b[39m                         Traceback (most recent call last)",
      "\u001b[36mCell\u001b[39m\u001b[36m \u001b[39m\u001b[32mIn[71]\u001b[39m\u001b[32m, line 14\u001b[39m\n\u001b[32m     11\u001b[39m optimizer.zero_grad()\n\u001b[32m     13\u001b[39m \u001b[38;5;66;03m# Forward pass\u001b[39;00m\n\u001b[32m---> \u001b[39m\u001b[32m14\u001b[39m outputs = \u001b[43mmodel\u001b[49m\u001b[43m(\u001b[49m\u001b[43mimages\u001b[49m\u001b[43m)\u001b[49m\n\u001b[32m     15\u001b[39m loss = criterion(outputs, labels)\n\u001b[32m     17\u001b[39m \u001b[38;5;66;03m# Backward pass and optimize\u001b[39;00m\n",
      "\u001b[36mFile \u001b[39m\u001b[32m/Library/Frameworks/Python.framework/Versions/3.11/lib/python3.11/site-packages/torch/nn/modules/module.py:1739\u001b[39m, in \u001b[36mModule._wrapped_call_impl\u001b[39m\u001b[34m(self, *args, **kwargs)\u001b[39m\n\u001b[32m   1737\u001b[39m     \u001b[38;5;28;01mreturn\u001b[39;00m \u001b[38;5;28mself\u001b[39m._compiled_call_impl(*args, **kwargs)  \u001b[38;5;66;03m# type: ignore[misc]\u001b[39;00m\n\u001b[32m   1738\u001b[39m \u001b[38;5;28;01melse\u001b[39;00m:\n\u001b[32m-> \u001b[39m\u001b[32m1739\u001b[39m     \u001b[38;5;28;01mreturn\u001b[39;00m \u001b[38;5;28;43mself\u001b[39;49m\u001b[43m.\u001b[49m\u001b[43m_call_impl\u001b[49m\u001b[43m(\u001b[49m\u001b[43m*\u001b[49m\u001b[43margs\u001b[49m\u001b[43m,\u001b[49m\u001b[43m \u001b[49m\u001b[43m*\u001b[49m\u001b[43m*\u001b[49m\u001b[43mkwargs\u001b[49m\u001b[43m)\u001b[49m\n",
      "\u001b[36mFile \u001b[39m\u001b[32m/Library/Frameworks/Python.framework/Versions/3.11/lib/python3.11/site-packages/torch/nn/modules/module.py:1750\u001b[39m, in \u001b[36mModule._call_impl\u001b[39m\u001b[34m(self, *args, **kwargs)\u001b[39m\n\u001b[32m   1745\u001b[39m \u001b[38;5;66;03m# If we don't have any hooks, we want to skip the rest of the logic in\u001b[39;00m\n\u001b[32m   1746\u001b[39m \u001b[38;5;66;03m# this function, and just call forward.\u001b[39;00m\n\u001b[32m   1747\u001b[39m \u001b[38;5;28;01mif\u001b[39;00m \u001b[38;5;129;01mnot\u001b[39;00m (\u001b[38;5;28mself\u001b[39m._backward_hooks \u001b[38;5;129;01mor\u001b[39;00m \u001b[38;5;28mself\u001b[39m._backward_pre_hooks \u001b[38;5;129;01mor\u001b[39;00m \u001b[38;5;28mself\u001b[39m._forward_hooks \u001b[38;5;129;01mor\u001b[39;00m \u001b[38;5;28mself\u001b[39m._forward_pre_hooks\n\u001b[32m   1748\u001b[39m         \u001b[38;5;129;01mor\u001b[39;00m _global_backward_pre_hooks \u001b[38;5;129;01mor\u001b[39;00m _global_backward_hooks\n\u001b[32m   1749\u001b[39m         \u001b[38;5;129;01mor\u001b[39;00m _global_forward_hooks \u001b[38;5;129;01mor\u001b[39;00m _global_forward_pre_hooks):\n\u001b[32m-> \u001b[39m\u001b[32m1750\u001b[39m     \u001b[38;5;28;01mreturn\u001b[39;00m \u001b[43mforward_call\u001b[49m\u001b[43m(\u001b[49m\u001b[43m*\u001b[49m\u001b[43margs\u001b[49m\u001b[43m,\u001b[49m\u001b[43m \u001b[49m\u001b[43m*\u001b[49m\u001b[43m*\u001b[49m\u001b[43mkwargs\u001b[49m\u001b[43m)\u001b[49m\n\u001b[32m   1752\u001b[39m result = \u001b[38;5;28;01mNone\u001b[39;00m\n\u001b[32m   1753\u001b[39m called_always_called_hooks = \u001b[38;5;28mset\u001b[39m()\n",
      "\u001b[36mCell\u001b[39m\u001b[36m \u001b[39m\u001b[32mIn[66]\u001b[39m\u001b[32m, line 26\u001b[39m, in \u001b[36mObjectRecognition.forward\u001b[39m\u001b[34m(self, x)\u001b[39m\n\u001b[32m     23\u001b[39m \u001b[38;5;28;01mdef\u001b[39;00m\u001b[38;5;250m \u001b[39m\u001b[34mforward\u001b[39m(\u001b[38;5;28mself\u001b[39m, x):\n\u001b[32m     24\u001b[39m     \u001b[38;5;66;03m# Input shape: Bx3x64x64\u001b[39;00m\n\u001b[32m     25\u001b[39m     x = \u001b[38;5;28mself\u001b[39m.mp1(\u001b[38;5;28mself\u001b[39m.bn1(\u001b[38;5;28mself\u001b[39m.relu(\u001b[38;5;28mself\u001b[39m.conv1(x))))  \u001b[38;5;66;03m# Bx32x32x32\u001b[39;00m\n\u001b[32m---> \u001b[39m\u001b[32m26\u001b[39m     x = \u001b[38;5;28mself\u001b[39m.mp2(\u001b[38;5;28mself\u001b[39m.bn2(\u001b[38;5;28mself\u001b[39m.relu(\u001b[38;5;28;43mself\u001b[39;49m\u001b[43m.\u001b[49m\u001b[43mconv2\u001b[49m\u001b[43m(\u001b[49m\u001b[43mx\u001b[49m\u001b[43m)\u001b[49m)))  \u001b[38;5;66;03m# Bx64x16x16\u001b[39;00m\n\u001b[32m     27\u001b[39m     x = \u001b[38;5;28mself\u001b[39m.mp3(\u001b[38;5;28mself\u001b[39m.bn3(\u001b[38;5;28mself\u001b[39m.relu(\u001b[38;5;28mself\u001b[39m.conv3(x))))  \u001b[38;5;66;03m# Bx128x8x8\u001b[39;00m\n\u001b[32m     29\u001b[39m     x = torch.flatten(x, \u001b[32m1\u001b[39m)  \u001b[38;5;66;03m# Bx(128*8*8)\u001b[39;00m\n",
      "\u001b[36mFile \u001b[39m\u001b[32m/Library/Frameworks/Python.framework/Versions/3.11/lib/python3.11/site-packages/torch/nn/modules/module.py:1739\u001b[39m, in \u001b[36mModule._wrapped_call_impl\u001b[39m\u001b[34m(self, *args, **kwargs)\u001b[39m\n\u001b[32m   1737\u001b[39m     \u001b[38;5;28;01mreturn\u001b[39;00m \u001b[38;5;28mself\u001b[39m._compiled_call_impl(*args, **kwargs)  \u001b[38;5;66;03m# type: ignore[misc]\u001b[39;00m\n\u001b[32m   1738\u001b[39m \u001b[38;5;28;01melse\u001b[39;00m:\n\u001b[32m-> \u001b[39m\u001b[32m1739\u001b[39m     \u001b[38;5;28;01mreturn\u001b[39;00m \u001b[38;5;28;43mself\u001b[39;49m\u001b[43m.\u001b[49m\u001b[43m_call_impl\u001b[49m\u001b[43m(\u001b[49m\u001b[43m*\u001b[49m\u001b[43margs\u001b[49m\u001b[43m,\u001b[49m\u001b[43m \u001b[49m\u001b[43m*\u001b[49m\u001b[43m*\u001b[49m\u001b[43mkwargs\u001b[49m\u001b[43m)\u001b[49m\n",
      "\u001b[36mFile \u001b[39m\u001b[32m/Library/Frameworks/Python.framework/Versions/3.11/lib/python3.11/site-packages/torch/nn/modules/module.py:1750\u001b[39m, in \u001b[36mModule._call_impl\u001b[39m\u001b[34m(self, *args, **kwargs)\u001b[39m\n\u001b[32m   1745\u001b[39m \u001b[38;5;66;03m# If we don't have any hooks, we want to skip the rest of the logic in\u001b[39;00m\n\u001b[32m   1746\u001b[39m \u001b[38;5;66;03m# this function, and just call forward.\u001b[39;00m\n\u001b[32m   1747\u001b[39m \u001b[38;5;28;01mif\u001b[39;00m \u001b[38;5;129;01mnot\u001b[39;00m (\u001b[38;5;28mself\u001b[39m._backward_hooks \u001b[38;5;129;01mor\u001b[39;00m \u001b[38;5;28mself\u001b[39m._backward_pre_hooks \u001b[38;5;129;01mor\u001b[39;00m \u001b[38;5;28mself\u001b[39m._forward_hooks \u001b[38;5;129;01mor\u001b[39;00m \u001b[38;5;28mself\u001b[39m._forward_pre_hooks\n\u001b[32m   1748\u001b[39m         \u001b[38;5;129;01mor\u001b[39;00m _global_backward_pre_hooks \u001b[38;5;129;01mor\u001b[39;00m _global_backward_hooks\n\u001b[32m   1749\u001b[39m         \u001b[38;5;129;01mor\u001b[39;00m _global_forward_hooks \u001b[38;5;129;01mor\u001b[39;00m _global_forward_pre_hooks):\n\u001b[32m-> \u001b[39m\u001b[32m1750\u001b[39m     \u001b[38;5;28;01mreturn\u001b[39;00m \u001b[43mforward_call\u001b[49m\u001b[43m(\u001b[49m\u001b[43m*\u001b[49m\u001b[43margs\u001b[49m\u001b[43m,\u001b[49m\u001b[43m \u001b[49m\u001b[43m*\u001b[49m\u001b[43m*\u001b[49m\u001b[43mkwargs\u001b[49m\u001b[43m)\u001b[49m\n\u001b[32m   1752\u001b[39m result = \u001b[38;5;28;01mNone\u001b[39;00m\n\u001b[32m   1753\u001b[39m called_always_called_hooks = \u001b[38;5;28mset\u001b[39m()\n",
      "\u001b[36mFile \u001b[39m\u001b[32m/Library/Frameworks/Python.framework/Versions/3.11/lib/python3.11/site-packages/torch/nn/modules/conv.py:554\u001b[39m, in \u001b[36mConv2d.forward\u001b[39m\u001b[34m(self, input)\u001b[39m\n\u001b[32m    553\u001b[39m \u001b[38;5;28;01mdef\u001b[39;00m\u001b[38;5;250m \u001b[39m\u001b[34mforward\u001b[39m(\u001b[38;5;28mself\u001b[39m, \u001b[38;5;28minput\u001b[39m: Tensor) -> Tensor:\n\u001b[32m--> \u001b[39m\u001b[32m554\u001b[39m     \u001b[38;5;28;01mreturn\u001b[39;00m \u001b[38;5;28;43mself\u001b[39;49m\u001b[43m.\u001b[49m\u001b[43m_conv_forward\u001b[49m\u001b[43m(\u001b[49m\u001b[38;5;28;43minput\u001b[39;49m\u001b[43m,\u001b[49m\u001b[43m \u001b[49m\u001b[38;5;28;43mself\u001b[39;49m\u001b[43m.\u001b[49m\u001b[43mweight\u001b[49m\u001b[43m,\u001b[49m\u001b[43m \u001b[49m\u001b[38;5;28;43mself\u001b[39;49m\u001b[43m.\u001b[49m\u001b[43mbias\u001b[49m\u001b[43m)\u001b[49m\n",
      "\u001b[36mFile \u001b[39m\u001b[32m/Library/Frameworks/Python.framework/Versions/3.11/lib/python3.11/site-packages/torch/nn/modules/conv.py:549\u001b[39m, in \u001b[36mConv2d._conv_forward\u001b[39m\u001b[34m(self, input, weight, bias)\u001b[39m\n\u001b[32m    537\u001b[39m \u001b[38;5;28;01mif\u001b[39;00m \u001b[38;5;28mself\u001b[39m.padding_mode != \u001b[33m\"\u001b[39m\u001b[33mzeros\u001b[39m\u001b[33m\"\u001b[39m:\n\u001b[32m    538\u001b[39m     \u001b[38;5;28;01mreturn\u001b[39;00m F.conv2d(\n\u001b[32m    539\u001b[39m         F.pad(\n\u001b[32m    540\u001b[39m             \u001b[38;5;28minput\u001b[39m, \u001b[38;5;28mself\u001b[39m._reversed_padding_repeated_twice, mode=\u001b[38;5;28mself\u001b[39m.padding_mode\n\u001b[32m   (...)\u001b[39m\u001b[32m    547\u001b[39m         \u001b[38;5;28mself\u001b[39m.groups,\n\u001b[32m    548\u001b[39m     )\n\u001b[32m--> \u001b[39m\u001b[32m549\u001b[39m \u001b[38;5;28;01mreturn\u001b[39;00m \u001b[43mF\u001b[49m\u001b[43m.\u001b[49m\u001b[43mconv2d\u001b[49m\u001b[43m(\u001b[49m\n\u001b[32m    550\u001b[39m \u001b[43m    \u001b[49m\u001b[38;5;28;43minput\u001b[39;49m\u001b[43m,\u001b[49m\u001b[43m \u001b[49m\u001b[43mweight\u001b[49m\u001b[43m,\u001b[49m\u001b[43m \u001b[49m\u001b[43mbias\u001b[49m\u001b[43m,\u001b[49m\u001b[43m \u001b[49m\u001b[38;5;28;43mself\u001b[39;49m\u001b[43m.\u001b[49m\u001b[43mstride\u001b[49m\u001b[43m,\u001b[49m\u001b[43m \u001b[49m\u001b[38;5;28;43mself\u001b[39;49m\u001b[43m.\u001b[49m\u001b[43mpadding\u001b[49m\u001b[43m,\u001b[49m\u001b[43m \u001b[49m\u001b[38;5;28;43mself\u001b[39;49m\u001b[43m.\u001b[49m\u001b[43mdilation\u001b[49m\u001b[43m,\u001b[49m\u001b[43m \u001b[49m\u001b[38;5;28;43mself\u001b[39;49m\u001b[43m.\u001b[49m\u001b[43mgroups\u001b[49m\n\u001b[32m    551\u001b[39m \u001b[43m\u001b[49m\u001b[43m)\u001b[49m\n",
      "\u001b[31mKeyboardInterrupt\u001b[39m: "
     ]
    }
   ],
   "source": [
    "train_losses = []\n",
    "for epoch in range(epochs):\n",
    "    model.train()\n",
    "    running_loss = 0.0\n",
    "    \n",
    "    # Progress bar for training batches\n",
    "    progress_bar = tqdm.tqdm(train_loader, desc=f'Epoch {epoch+1}/{epochs}')\n",
    "    \n",
    "    for images, labels in progress_bar:\n",
    "        # Zero the gradients\n",
    "        optimizer.zero_grad()\n",
    "        \n",
    "        # Forward pass\n",
    "        outputs = model(images)\n",
    "        loss = criterion(outputs, labels)\n",
    "        \n",
    "        # Backward pass and optimize\n",
    "        loss.backward()\n",
    "        optimizer.step()\n",
    "        \n",
    "        # Update running loss\n",
    "        running_loss += loss.item()\n",
    "        \n",
    "        # Update progress bar description with current loss\n",
    "        progress_bar.set_postfix({'loss': loss.item()})\n",
    "    \n",
    "    # Calculate average loss for the epoch\n",
    "    epoch_loss = running_loss / len(train_loader)\n",
    "    train_losses.append(epoch_loss)\n",
    "    \n",
    "    print(f'Epoch [{epoch+1}/{epochs}] - Loss: {epoch_loss:.4f}')\n",
    "\n",
    "# Plot training loss\n",
    "plt.figure(figsize=(10, 5))\n",
    "plt.plot(train_losses, label='Training Loss')\n",
    "plt.title('Training Loss Over Time')\n",
    "plt.xlabel('Epoch')\n",
    "plt.ylabel('Loss')\n",
    "plt.legend()\n",
    "plt.show()"
   ]
  },
  {
   "cell_type": "markdown",
   "metadata": {},
   "source": [
    "# Download model weights"
   ]
  },
  {
   "cell_type": "code",
   "execution_count": 14,
   "metadata": {},
   "outputs": [
    {
     "name": "stdout",
     "output_type": "stream",
     "text": [
      "Model weights saved to /Users/olicho/Desktop/Programming/adversarial-style-transfer/models-weights/object_detection/model_weights_15_epochs.pth\n"
     ]
    }
   ],
   "source": [
    "# # Save model weights\n",
    "# model_save_path = '/Users/olicho/Desktop/Programming/adversarial-style-transfer/models-weights/object_detection/model_weights_15_epochs.pth'\n",
    "# torch.save(model.state_dict(), model_save_path)\n",
    "# print(f\"Model weights saved to {model_save_path}\")"
   ]
  },
  {
   "cell_type": "markdown",
   "metadata": {},
   "source": [
    "# Validation"
   ]
  },
  {
   "cell_type": "code",
   "execution_count": null,
   "metadata": {},
   "outputs": [
    {
     "name": "stdout",
     "output_type": "stream",
     "text": [
      "Model weights loaded from /Users/olicho/Desktop/Programming/adversarial-style-transfer/models-weights/object-detection-nonadversarial/model_weights.pth\n"
     ]
    }
   ],
   "source": [
    "# Load saved model weights\n",
    "# model_weights_path = '/Users/olicho/Desktop/Programming/adversarial-style-transfer/models-weights/object-detection-nonadversarial/model_weights.pth'\n",
    "# model.load_state_dict(torch.load(model_weights_path))\n",
    "# print(f\"Model weights loaded from {model_weights_path}\")"
   ]
  },
  {
   "cell_type": "code",
   "execution_count": 70,
   "metadata": {},
   "outputs": [
    {
     "name": "stdout",
     "output_type": "stream",
     "text": [
      "Test Loss: 6.8033\n",
      "Test Accuracy: 0.3178\n"
     ]
    }
   ],
   "source": [
    "def evaluate_model(model, test_loader):\n",
    "\n",
    "    model.eval()\n",
    "\n",
    "    test_loss = 0.0\n",
    "    correct = 0\n",
    "    total = 0\n",
    "\n",
    "    with torch.no_grad():\n",
    "        for data, target in test_loader:\n",
    "            output = model(data)\n",
    "\n",
    "            loss = criterion(output, target)\n",
    "            test_loss += loss.item()\n",
    "\n",
    "            pred = output.argmax(dim=1, keepdim=True)\n",
    "            correct += pred.eq(target.view_as(pred)).sum().item()\n",
    "            total += target.size(0)\n",
    "\n",
    "    test_loss /= len(test_loader)\n",
    "\n",
    "    return {\n",
    "        'loss': test_loss,\n",
    "        'accuracy': correct / total,\n",
    "    }\n",
    "\n",
    "# Evaluate model on test set\n",
    "test_results = evaluate_model(model, test_loader)\n",
    "print(f\"Test Loss: {test_results['loss']:.4f}\")\n",
    "print(f\"Test Accuracy: {test_results['accuracy']:.4f}\")"
   ]
  },
  {
   "cell_type": "code",
   "execution_count": 64,
   "metadata": {},
   "outputs": [
    {
     "name": "stdout",
     "output_type": "stream",
     "text": [
      "\n",
      "Per-class Performance Metrics:\n",
      "              Class  Precision  Recall  F1-Score  Support  Accuracy\n",
      "0          chainsaw      0.500   0.465     0.482       86     0.465\n",
      "1          gas_pump      0.560   0.602     0.580       93     0.602\n",
      "2             tench      0.758   0.742     0.750       97     0.742\n",
      "3       french_horn      0.630   0.842     0.721       95     0.842\n",
      "4            church      0.742   0.766     0.754       94     0.766\n",
      "5  english_springer      0.704   0.719     0.711       96     0.719\n",
      "6         golf_ball      0.696   0.579     0.632       95     0.579\n",
      "7     garbage_truck      0.703   0.740     0.721       96     0.740\n",
      "8         parachute      0.848   0.812     0.830       96     0.812\n",
      "9   cassette_player      0.782   0.616     0.689       99     0.616\n",
      "\n",
      "Macro Averages:\n",
      "Precision: 0.692\n",
      "Recall: 0.688\n",
      "F1-Score: 0.687\n",
      "Accuracy: 0.688\n"
     ]
    }
   ],
   "source": [
    "from sklearn.metrics import precision_recall_fscore_support, confusion_matrix\n",
    "import pandas as pd\n",
    "\n",
    "class_names = ['chainsaw', 'gas_pump', 'tench', 'french_horn', 'church', 'english_springer', 'golf_ball', 'garbage_truck', 'parachute', 'cassette_player']\n",
    "\n",
    "# Get predictions and true labels for entire test set\n",
    "model.eval()\n",
    "all_preds = []\n",
    "all_labels = []\n",
    "\n",
    "with torch.no_grad():\n",
    "    for data, target in test_loader:\n",
    "        output = model(data)\n",
    "        pred = output.argmax(dim=1)\n",
    "        all_preds.extend(pred.cpu().numpy())\n",
    "        all_labels.extend(target.cpu().numpy())\n",
    "\n",
    "# Calculate metrics for each class\n",
    "precision, recall, f1, support = precision_recall_fscore_support(\n",
    "    all_labels, \n",
    "    all_preds,\n",
    "    labels=range(len(class_names)),\n",
    "    average=None\n",
    ")\n",
    "\n",
    "# Create DataFrame with results\n",
    "results_df = pd.DataFrame({\n",
    "    'Class': class_names,\n",
    "    'Precision': precision,\n",
    "    'Recall': recall,\n",
    "    'F1-Score': f1,\n",
    "    'Support': support\n",
    "})\n",
    "\n",
    "# Calculate accuracy for each class from confusion matrix\n",
    "conf_matrix = confusion_matrix(all_labels, all_preds)\n",
    "class_accuracy = conf_matrix.diagonal() / conf_matrix.sum(axis=1)\n",
    "results_df['Accuracy'] = class_accuracy\n",
    "\n",
    "# Display results with nice formatting\n",
    "pd.set_option('display.float_format', lambda x: '{:.3f}'.format(x))\n",
    "print(\"\\nPer-class Performance Metrics:\")\n",
    "print(results_df)\n",
    "\n",
    "# Calculate and display macro averages\n",
    "macro_avg = results_df[['Precision', 'Recall', 'F1-Score', 'Accuracy']].mean()\n",
    "print(\"\\nMacro Averages:\")\n",
    "for metric, value in macro_avg.items():\n",
    "    print(f\"{metric}: {value:.3f}\")"
   ]
  },
  {
   "cell_type": "code",
   "execution_count": 79,
   "metadata": {},
   "outputs": [
    {
     "name": "stdout",
     "output_type": "stream",
     "text": [
      "Model weights saved to /Users/olicho/Desktop/Programming/adversarial-style-transfer/models-weights/object_detection/model_weights_8_epochs.pth\n"
     ]
    }
   ],
   "source": [
    "# # Save model weights\n",
    "model_save_path = '/Users/olicho/Desktop/Programming/adversarial-style-transfer/models-weights/object_detection/model_weights_8_epochs.pth'\n",
    "torch.save(model.state_dict(), model_save_path)\n",
    "print(f\"Model weights saved to {model_save_path}\")"
   ]
  },
  {
   "cell_type": "markdown",
   "metadata": {},
   "source": [
    "# Stylized Evaluation"
   ]
  },
  {
   "cell_type": "code",
   "execution_count": 92,
   "metadata": {},
   "outputs": [
    {
     "name": "stdout",
     "output_type": "stream",
     "text": [
      "\n",
      "Evaluating chainsaw...\n",
      "\n",
      "Evaluating gas_pump...\n",
      "\n",
      "Evaluating tench...\n",
      "\n",
      "Evaluating french_horn...\n",
      "\n",
      "Evaluating church...\n",
      "\n",
      "Evaluating english_springer...\n",
      "\n",
      "Evaluating golf_ball...\n",
      "\n",
      "Evaluating garbage_truck...\n",
      "\n",
      "Evaluating parachute...\n",
      "\n",
      "Evaluating cassette_player...\n",
      "\n",
      "Evaluation Results:\n",
      "\n",
      "chainsaw:\n",
      "Accuracy: 2.38%\n",
      "Average Confidence: 85.20%\n",
      "Most commonly predicted as:\n",
      "  - golf_ball: 30.9% of predictions\n",
      "  - parachute: 24.3% of predictions\n",
      "  - tench: 15.2% of predictions\n",
      "\n",
      "gas_pump:\n",
      "Accuracy: 0.00%\n",
      "Average Confidence: 86.70%\n",
      "Most commonly predicted as:\n",
      "  - golf_ball: 31.9% of predictions\n",
      "  - parachute: 25.6% of predictions\n",
      "  - tench: 18.3% of predictions\n",
      "\n",
      "tench:\n",
      "Accuracy: 10.52%\n",
      "Average Confidence: 85.35%\n",
      "Most commonly predicted as:\n",
      "  - golf_ball: 32.1% of predictions\n",
      "  - tench: 30.6% of predictions\n",
      "  - parachute: 24.5% of predictions\n",
      "\n",
      "french_horn:\n",
      "Accuracy: 9.20%\n",
      "Average Confidence: 88.03%\n",
      "Most commonly predicted as:\n",
      "  - golf_ball: 32.2% of predictions\n",
      "  - parachute: 23.1% of predictions\n",
      "  - tench: 18.7% of predictions\n",
      "\n",
      "church:\n",
      "Accuracy: 0.94%\n",
      "Average Confidence: 86.87%\n",
      "Most commonly predicted as:\n",
      "  - golf_ball: 32.2% of predictions\n",
      "  - parachute: 26.7% of predictions\n",
      "  - tench: 19.5% of predictions\n",
      "\n",
      "english_springer:\n",
      "Accuracy: 12.66%\n",
      "Average Confidence: 89.74%\n",
      "Most commonly predicted as:\n",
      "  - golf_ball: 32.3% of predictions\n",
      "  - parachute: 21.1% of predictions\n",
      "  - english_springer: 20.7% of predictions\n",
      "\n",
      "golf_ball:\n",
      "Accuracy: 89.96%\n",
      "Average Confidence: 92.81%\n",
      "Most commonly predicted as:\n",
      "  - golf_ball: 33.2% of predictions\n",
      "  - parachute: 28.0% of predictions\n",
      "  - tench: 20.9% of predictions\n",
      "\n",
      "garbage_truck:\n",
      "Accuracy: 1.24%\n",
      "Average Confidence: 86.91%\n",
      "Most commonly predicted as:\n",
      "  - golf_ball: 31.7% of predictions\n",
      "  - parachute: 24.9% of predictions\n",
      "  - tench: 12.9% of predictions\n",
      "\n",
      "parachute:\n",
      "Accuracy: 30.65%\n",
      "Average Confidence: 87.54%\n",
      "Most commonly predicted as:\n",
      "  - golf_ball: 32.8% of predictions\n",
      "  - parachute: 30.0% of predictions\n",
      "  - tench: 15.7% of predictions\n",
      "\n",
      "cassette_player:\n",
      "Accuracy: 1.88%\n",
      "Average Confidence: 87.33%\n",
      "Most commonly predicted as:\n",
      "  - golf_ball: 30.8% of predictions\n",
      "  - parachute: 21.3% of predictions\n",
      "  - cassette_player: 16.2% of predictions\n"
     ]
    }
   ],
   "source": [
    "class_names = list(label_map.keys())\n",
    "\n",
    "# Create a dictionary to store results for each class\n",
    "results = {class_name: [] for class_name in class_names}\n",
    "\n",
    "# Process each class\n",
    "for class_name in class_names:\n",
    "    # Get all images for this class from processed folder\n",
    "    class_path = os.path.join('/Users/olicho/Desktop/Programming/adversarial-style-transfer/data/processed', class_name)\n",
    "    images = glob.glob(os.path.join(class_path, '*.jpg'))\n",
    "    \n",
    "    print(f\"\\nEvaluating {class_name}...\")\n",
    "    \n",
    "    # Process each image\n",
    "    for img_path in list(images):  # Convert glob iterator to list before iterating\n",
    "        # Load and preprocess image\n",
    "        img = Image.open(img_path).convert('RGB')\n",
    "        img = img.resize((64, 64), Image.LANCZOS)\n",
    "        img_array = np.array(img) / 255.0\n",
    "        img_tensor = torch.from_numpy(img_array.transpose(2, 0, 1)).float()\n",
    "        img_tensor = img_tensor.unsqueeze(0)\n",
    "        \n",
    "        # Get model prediction\n",
    "        model.eval()\n",
    "        with torch.no_grad():\n",
    "            output = model(img_tensor)\n",
    "            probs = torch.nn.functional.softmax(output, dim=1)[0]\n",
    "            # Get top 3 predictions\n",
    "            top3_prob, top3_idx = torch.topk(probs, 3)\n",
    "            \n",
    "        results[class_name].append({\n",
    "            'top3_classes': [class_names[idx] for idx in top3_idx],\n",
    "            'top3_confidences': [prob.item() for prob in top3_prob]\n",
    "        })\n",
    "\n",
    "# Print summary for each class\n",
    "print(\"\\nEvaluation Results:\")\n",
    "for class_name, predictions in results.items():\n",
    "    total = len(predictions)\n",
    "    \n",
    "    # Calculate accuracy (when true class is top prediction)\n",
    "    correct = sum(1 for p in predictions if p['top3_classes'][0] == class_name)\n",
    "    accuracy = correct / total\n",
    "    \n",
    "    # Calculate average confidence of top prediction\n",
    "    avg_confidence = sum(p['top3_confidences'][0] for p in predictions) / total\n",
    "    \n",
    "    # Count frequency of each predicted class\n",
    "    prediction_counts = {}\n",
    "    for p in predictions:\n",
    "        for pred_class in p['top3_classes']:\n",
    "            prediction_counts[pred_class] = prediction_counts.get(pred_class, 0) + 1\n",
    "    \n",
    "    # Get top 3 most common predictions\n",
    "    most_common = sorted(prediction_counts.items(), key=lambda x: x[1], reverse=True)[:3]\n",
    "    \n",
    "    print(f\"\\n{class_name}:\")\n",
    "    print(f\"Accuracy: {accuracy:.2%}\")\n",
    "    print(f\"Average Confidence: {avg_confidence:.2%}\")\n",
    "    print(\"Most commonly predicted as:\")\n",
    "    for pred_class, count in most_common:\n",
    "        percentage = count / (total * 3) * 100  # Divide by total*3 since each image has 3 predictions\n",
    "        print(f\"  - {pred_class}: {percentage:.1f}% of predictions\")"
   ]
  },
  {
   "cell_type": "markdown",
   "metadata": {},
   "source": [
    "# Make training dataset 50% original and 50% stylized. Validate on 100% original images"
   ]
  },
  {
   "cell_type": "code",
   "execution_count": null,
   "metadata": {},
   "outputs": [],
   "source": [
    "original_data_path = \"/Users/olicho/Desktop/Programming/adversarial-style-transfer/data/source_images\"\n",
    "stylized_data_path = \"/Users/olicho/Desktop/Programming/adversarial-style-transfer/data/processed\"\n",
    "\n",
    "X_orig, y_orig, label_map = load_and_preprocess_images(original_data_path)\n",
    "X_style, y_style, _ = load_and_preprocess_images(stylized_data_path)\n",
    "\n",
    "print(f\"Original data: {len(X_orig)} images\")\n",
    "print(f\"Stylized data: {len(X_style)} images\")\n",
    "\n",
    "# Set random seed for reproducibility\n",
    "np.random.seed(42)\n",
    "\n",
    "# Randomly subsample stylized data to match original data size\n",
    "subset_size = len(X_orig)\n",
    "style_indices = np.random.choice(len(X_style), subset_size, replace=False)\n",
    "X_style_subset = X_style[style_indices]\n",
    "y_style_subset = y_style[style_indices]\n",
    "\n",
    "print(f\"Stylized subset: {len(X_style_subset)} images (randomly sampled)\")\n",
    "\n",
    "# Split original data into train, val and test\n",
    "X_orig_train, X_orig_temp, y_orig_train, y_orig_temp = train_test_split(\n",
    "    X_orig, y_orig, test_size=0.2, random_state=42, stratify=y_orig\n",
    ")\n",
    "X_orig_val, X_orig_test, y_orig_val, y_orig_test = train_test_split(\n",
    "    X_orig_temp, y_orig_temp, test_size=0.5, random_state=42, stratify=y_orig_temp\n",
    ")\n",
    "\n",
    "# Split stylized subset - we only need training portion\n",
    "X_style_train, _, y_style_train, _ = train_test_split(\n",
    "    X_style_subset, y_style_subset, test_size=0.2, random_state=42, stratify=y_style_subset\n",
    ")\n",
    "\n",
    "# Combine original and stylized for training (true 50-50 split)\n",
    "X_train = np.concatenate([X_orig_train, X_style_train])\n",
    "y_train = np.concatenate([y_orig_train, y_style_train])\n",
    "\n",
    "# Use original data only for validation and test\n",
    "X_val = X_orig_val\n",
    "y_val = y_orig_val\n",
    "X_test = X_orig_test \n",
    "y_test = y_orig_test\n",
    "\n",
    "# Convert to PyTorch tensors\n",
    "X_train = torch.FloatTensor(X_train)\n",
    "X_val = torch.FloatTensor(X_val)\n",
    "X_test = torch.FloatTensor(X_test)\n",
    "y_train = torch.LongTensor(y_train)\n",
    "y_val = torch.LongTensor(y_val)\n",
    "y_test = torch.LongTensor(y_test)\n",
    "\n",
    "print(f\"\\nFinal dataset sizes:\")\n",
    "print(f\"Training set shape: {X_train.shape} (50% original: {len(X_orig_train)}, 50% stylized: {len(X_style_train)})\")\n",
    "print(f\"Validation set shape: {X_val.shape} (100% original)\")\n",
    "print(f\"Test set shape: {X_test.shape} (100% original)\")\n",
    "print(f\"\\nClass mapping: {label_map}\")\n",
    "\n",
    "# Verify class balance in training set\n",
    "print(f\"\\nTraining set class distribution:\")\n",
    "unique_train, counts_train = np.unique(y_train.numpy(), return_counts=True)\n",
    "for class_idx, count in zip(unique_train, counts_train):\n",
    "    class_name = [k for k, v in label_map.items() if v == class_idx][0]\n",
    "    print(f\"  {class_name}: {count} images\")"
   ]
  },
  {
   "cell_type": "code",
   "execution_count": 95,
   "metadata": {},
   "outputs": [
    {
     "name": "stderr",
     "output_type": "stream",
     "text": [
      "Processing chainsaw: 100%|██████████| 858/858 [00:01<00:00, 577.52it/s]\n",
      "Processing gas_pump: 100%|██████████| 931/931 [00:01<00:00, 558.92it/s]\n",
      "Processing tench: 100%|██████████| 963/963 [00:01<00:00, 596.21it/s]\n",
      "Processing french_horn: 100%|██████████| 956/956 [00:01<00:00, 538.32it/s]\n",
      "Processing church: 100%|██████████| 941/941 [00:01<00:00, 590.70it/s]\n",
      "Processing english_springer: 100%|██████████| 955/955 [00:01<00:00, 646.24it/s]\n",
      "Processing golf_ball: 100%|██████████| 951/951 [00:01<00:00, 586.91it/s]\n",
      "Processing garbage_truck: 100%|██████████| 961/961 [00:01<00:00, 529.48it/s]\n",
      "Processing parachute: 100%|██████████| 960/960 [00:01<00:00, 527.25it/s]\n",
      "Processing cassette_player: 100%|██████████| 993/993 [00:01<00:00, 563.17it/s]\n",
      "Processing chainsaw: 100%|██████████| 2147/2147 [00:05<00:00, 390.11it/s]\n",
      "Processing gas_pump: 100%|██████████| 2340/2340 [00:05<00:00, 427.02it/s]\n",
      "Processing tench: 100%|██████████| 2405/2405 [00:06<00:00, 375.21it/s]\n",
      "Processing french_horn: 100%|██████████| 2425/2425 [00:05<00:00, 436.69it/s]\n",
      "Processing church: 100%|██████████| 2335/2335 [00:05<00:00, 425.38it/s]\n",
      "Processing english_springer: 100%|██████████| 2370/2370 [00:04<00:00, 475.22it/s]\n",
      "Processing golf_ball: 100%|██████████| 2380/2380 [00:06<00:00, 391.31it/s]\n",
      "Processing garbage_truck: 100%|██████████| 2425/2425 [00:05<00:00, 409.61it/s]\n",
      "Processing parachute: 100%|██████████| 2450/2450 [00:05<00:00, 456.45it/s]\n",
      "Processing cassette_player: 100%|██████████| 2500/2500 [00:05<00:00, 438.30it/s]\n"
     ]
    },
    {
     "name": "stdout",
     "output_type": "stream",
     "text": [
      "Training set shape: torch.Size([26596, 3, 64, 64]) (50% original, 50% stylized)\n",
      "Validation set shape: torch.Size([947, 3, 64, 64]) (100% original)\n",
      "Test set shape: torch.Size([947, 3, 64, 64]) (100% original)\n",
      "\n",
      "Class mapping: {'chainsaw': 0, 'gas_pump': 1, 'tench': 2, 'french_horn': 3, 'church': 4, 'english_springer': 5, 'golf_ball': 6, 'garbage_truck': 7, 'parachute': 8, 'cassette_player': 9}\n"
     ]
    }
   ],
   "source": [
    "original_data_path = \"/Users/olicho/Desktop/Programming/adversarial-style-transfer/data/source_images\"\n",
    "stylized_data_path = \"/Users/olicho/Desktop/Programming/adversarial-style-transfer/data/processed\"\n",
    "\n",
    "X_orig, y_orig, label_map = load_and_preprocess_images(original_data_path)\n",
    "X_style, y_style, _ = load_and_preprocess_images(stylized_data_path)\n",
    "\n",
    "# Split original data into train, val and test\n",
    "X_orig_train, X_orig_temp, y_orig_train, y_orig_temp = train_test_split(\n",
    "    X_orig, y_orig, test_size=0.2, random_state=42, stratify=y_orig\n",
    ")\n",
    "X_orig_val, X_orig_test, y_orig_val, y_orig_test = train_test_split(\n",
    "    X_orig_temp, y_orig_temp, test_size=0.5, random_state=42, stratify=y_orig_temp\n",
    ")\n",
    "\n",
    "# Split stylized data - we only need training portion\n",
    "X_style_train, _, y_style_train, _ = train_test_split(\n",
    "    X_style, y_style, test_size=0.2, random_state=42, stratify=y_style\n",
    ")\n",
    "\n",
    "# Combine original and stylized for training (50-50 split)\n",
    "X_train = np.concatenate([X_orig_train, X_style_train])\n",
    "y_train = np.concatenate([y_orig_train, y_style_train])\n",
    "\n",
    "# Use original data only for validation and test\n",
    "X_val = X_orig_val\n",
    "y_val = y_orig_val\n",
    "X_test = X_orig_test \n",
    "y_test = y_orig_test\n",
    "\n",
    "# Convert to PyTorch tensors\n",
    "X_train = torch.FloatTensor(X_train)\n",
    "X_val = torch.FloatTensor(X_val)\n",
    "X_test = torch.FloatTensor(X_test)\n",
    "y_train = torch.LongTensor(y_train)\n",
    "y_val = torch.LongTensor(y_val)\n",
    "y_test = torch.LongTensor(y_test)\n",
    "\n",
    "print(f\"Training set shape: {X_train.shape} (50% original, 50% stylized)\")\n",
    "print(f\"Validation set shape: {X_val.shape} (100% original)\")\n",
    "print(f\"Test set shape: {X_test.shape} (100% original)\")\n",
    "print(f\"\\nClass mapping: {label_map}\")"
   ]
  },
  {
   "cell_type": "code",
   "execution_count": 96,
   "metadata": {},
   "outputs": [],
   "source": [
    "# Create data loaders\n",
    "batch_size = 32\n",
    "\n",
    "# Create datasets\n",
    "train_dataset = TensorDataset(X_train, y_train)\n",
    "val_dataset = TensorDataset(X_val, y_val)\n",
    "test_dataset = TensorDataset(X_test, y_test)\n",
    "\n",
    "# Create data loaders\n",
    "train_loader = DataLoader(train_dataset, batch_size=batch_size, shuffle=True)\n",
    "val_loader = DataLoader(val_dataset, batch_size=batch_size)\n",
    "test_loader = DataLoader(test_dataset, batch_size=batch_size)"
   ]
  },
  {
   "cell_type": "code",
   "execution_count": 97,
   "metadata": {},
   "outputs": [
    {
     "name": "stderr",
     "output_type": "stream",
     "text": [
      "Epoch 1/8: 100%|██████████| 832/832 [01:34<00:00,  8.77it/s, loss=0.31] \n"
     ]
    },
    {
     "name": "stdout",
     "output_type": "stream",
     "text": [
      "Epoch [1/8] - Loss: 1.2775\n"
     ]
    },
    {
     "name": "stderr",
     "output_type": "stream",
     "text": [
      "Epoch 2/8: 100%|██████████| 832/832 [01:27<00:00,  9.54it/s, loss=1.16] \n"
     ]
    },
    {
     "name": "stdout",
     "output_type": "stream",
     "text": [
      "Epoch [2/8] - Loss: 0.8325\n"
     ]
    },
    {
     "name": "stderr",
     "output_type": "stream",
     "text": [
      "Epoch 3/8: 100%|██████████| 832/832 [01:28<00:00,  9.37it/s, loss=0.178]\n"
     ]
    },
    {
     "name": "stdout",
     "output_type": "stream",
     "text": [
      "Epoch [3/8] - Loss: 0.5835\n"
     ]
    },
    {
     "name": "stderr",
     "output_type": "stream",
     "text": [
      "Epoch 4/8: 100%|██████████| 832/832 [01:29<00:00,  9.33it/s, loss=0.0237]\n"
     ]
    },
    {
     "name": "stdout",
     "output_type": "stream",
     "text": [
      "Epoch [4/8] - Loss: 0.4058\n"
     ]
    },
    {
     "name": "stderr",
     "output_type": "stream",
     "text": [
      "Epoch 5/8: 100%|██████████| 832/832 [01:36<00:00,  8.62it/s, loss=0.167] \n"
     ]
    },
    {
     "name": "stdout",
     "output_type": "stream",
     "text": [
      "Epoch [5/8] - Loss: 0.2976\n"
     ]
    },
    {
     "name": "stderr",
     "output_type": "stream",
     "text": [
      "Epoch 6/8: 100%|██████████| 832/832 [01:36<00:00,  8.59it/s, loss=0.668] \n"
     ]
    },
    {
     "name": "stdout",
     "output_type": "stream",
     "text": [
      "Epoch [6/8] - Loss: 0.2192\n"
     ]
    },
    {
     "name": "stderr",
     "output_type": "stream",
     "text": [
      "Epoch 7/8: 100%|██████████| 832/832 [01:28<00:00,  9.41it/s, loss=0.00139]\n"
     ]
    },
    {
     "name": "stdout",
     "output_type": "stream",
     "text": [
      "Epoch [7/8] - Loss: 0.1760\n"
     ]
    },
    {
     "name": "stderr",
     "output_type": "stream",
     "text": [
      "Epoch 8/8: 100%|██████████| 832/832 [01:28<00:00,  9.45it/s, loss=0.257]  \n"
     ]
    },
    {
     "name": "stdout",
     "output_type": "stream",
     "text": [
      "Epoch [8/8] - Loss: 0.1556\n"
     ]
    },
    {
     "data": {
      "image/png": "[encoded data removed]",
      "text/plain": [
       "<Figure size 1000x500 with 1 Axes>"
      ]
     },
     "metadata": {},
     "output_type": "display_data"
    }
   ],
   "source": [
    "train_losses = []\n",
    "for epoch in range(epochs):\n",
    "    model.train()\n",
    "    running_loss = 0.0\n",
    "    \n",
    "    # Progress bar for training batches\n",
    "    progress_bar = tqdm.tqdm(train_loader, desc=f'Epoch {epoch+1}/{epochs}')\n",
    "    \n",
    "    for images, labels in progress_bar:\n",
    "        # Zero the gradients\n",
    "        optimizer.zero_grad()\n",
    "        \n",
    "        # Forward pass\n",
    "        outputs = model(images)\n",
    "        loss = criterion(outputs, labels)\n",
    "        \n",
    "        # Backward pass and optimize\n",
    "        loss.backward()\n",
    "        optimizer.step()\n",
    "        \n",
    "        # Update running loss\n",
    "        running_loss += loss.item()\n",
    "        \n",
    "        # Update progress bar description with current loss\n",
    "        progress_bar.set_postfix({'loss': loss.item()})\n",
    "    \n",
    "    # Calculate average loss for the epoch\n",
    "    epoch_loss = running_loss / len(train_loader)\n",
    "    train_losses.append(epoch_loss)\n",
    "    \n",
    "    print(f'Epoch [{epoch+1}/{epochs}] - Loss: {epoch_loss:.4f}')\n",
    "\n",
    "# Plot training loss\n",
    "plt.figure(figsize=(10, 5))\n",
    "plt.plot(train_losses, label='Training Loss')\n",
    "plt.title('Training Loss Over Time')\n",
    "plt.xlabel('Epoch')\n",
    "plt.ylabel('Loss')\n",
    "plt.legend()\n",
    "plt.show()"
   ]
  },
  {
   "cell_type": "code",
   "execution_count": 98,
   "metadata": {},
   "outputs": [
    {
     "name": "stdout",
     "output_type": "stream",
     "text": [
      "Model weights saved to /Users/olicho/Desktop/Programming/adversarial-style-transfer/models-weights/object_detection/50-50-model-weights.pth\n"
     ]
    }
   ],
   "source": [
    "# Save model weights\n",
    "model_save_path = '/Users/olicho/Desktop/Programming/adversarial-style-transfer/models-weights/object_detection/50-50-model-weights.pth'\n",
    "torch.save(model.state_dict(), model_save_path)\n",
    "print(f\"Model weights saved to {model_save_path}\")"
   ]
  },
  {
   "cell_type": "code",
   "execution_count": 99,
   "metadata": {},
   "outputs": [
    {
     "name": "stdout",
     "output_type": "stream",
     "text": [
      "Test Loss: 1.1954\n",
      "Test Accuracy: 0.8046\n"
     ]
    }
   ],
   "source": [
    "test_results = evaluate_model(model, test_loader)\n",
    "print(f\"Test Loss: {test_results['loss']:.4f}\")\n",
    "print(f\"Test Accuracy: {test_results['accuracy']:.4f}\")"
   ]
  },
  {
   "cell_type": "code",
   "execution_count": 100,
   "metadata": {},
   "outputs": [
    {
     "name": "stdout",
     "output_type": "stream",
     "text": [
      "\n",
      "Per-class Performance Metrics:\n",
      "              Class  Precision  Recall  F1-Score  Support  Accuracy\n",
      "0          chainsaw      0.771   0.628     0.692       86     0.628\n",
      "1          gas_pump      0.694   0.806     0.746       93     0.806\n",
      "2             tench      0.933   0.866     0.898       97     0.866\n",
      "3       french_horn      0.822   0.779     0.800       95     0.779\n",
      "4            church      0.869   0.777     0.820       94     0.777\n",
      "5  english_springer      0.828   0.802     0.815       96     0.802\n",
      "6         golf_ball      0.816   0.842     0.829       95     0.842\n",
      "7     garbage_truck      0.717   0.844     0.775       96     0.844\n",
      "8         parachute      0.856   0.865     0.860       96     0.865\n",
      "9   cassette_player      0.779   0.818     0.798       99     0.818\n",
      "\n",
      "Macro Averages:\n",
      "Precision: 0.809\n",
      "Recall: 0.803\n",
      "F1-Score: 0.803\n",
      "Accuracy: 0.803\n"
     ]
    }
   ],
   "source": [
    "class_names = ['chainsaw', 'gas_pump', 'tench', 'french_horn', 'church', 'english_springer', 'golf_ball', 'garbage_truck', 'parachute', 'cassette_player']\n",
    "\n",
    "# Get predictions and true labels for entire test set\n",
    "model.eval()\n",
    "all_preds = []\n",
    "all_labels = []\n",
    "\n",
    "with torch.no_grad():\n",
    "    for data, target in test_loader:\n",
    "        output = model(data)\n",
    "        pred = output.argmax(dim=1)\n",
    "        all_preds.extend(pred.cpu().numpy())\n",
    "        all_labels.extend(target.cpu().numpy())\n",
    "\n",
    "# Calculate metrics for each class\n",
    "precision, recall, f1, support = precision_recall_fscore_support(\n",
    "    all_labels, \n",
    "    all_preds,\n",
    "    labels=range(len(class_names)),\n",
    "    average=None\n",
    ")\n",
    "\n",
    "# Create DataFrame with results\n",
    "results_df = pd.DataFrame({\n",
    "    'Class': class_names,\n",
    "    'Precision': precision,\n",
    "    'Recall': recall,\n",
    "    'F1-Score': f1,\n",
    "    'Support': support\n",
    "})\n",
    "\n",
    "# Calculate accuracy for each class from confusion matrix\n",
    "conf_matrix = confusion_matrix(all_labels, all_preds)\n",
    "class_accuracy = conf_matrix.diagonal() / conf_matrix.sum(axis=1)\n",
    "results_df['Accuracy'] = class_accuracy\n",
    "\n",
    "# Display results with nice formatting\n",
    "pd.set_option('display.float_format', lambda x: '{:.3f}'.format(x))\n",
    "print(\"\\nPer-class Performance Metrics:\")\n",
    "print(results_df)\n",
    "\n",
    "# Calculate and display macro averages\n",
    "macro_avg = results_df[['Precision', 'Recall', 'F1-Score', 'Accuracy']].mean()\n",
    "print(\"\\nMacro Averages:\")\n",
    "for metric, value in macro_avg.items():\n",
    "    print(f\"{metric}: {value:.3f}\")"
   ]
  },
  {
   "cell_type": "code",
   "execution_count": 101,
   "metadata": {},
   "outputs": [
    {
     "name": "stdout",
     "output_type": "stream",
     "text": [
      "\n",
      "Evaluating chainsaw...\n",
      "\n",
      "Evaluating gas_pump...\n",
      "\n",
      "Evaluating tench...\n",
      "\n",
      "Evaluating french_horn...\n",
      "\n",
      "Evaluating church...\n",
      "\n",
      "Evaluating english_springer...\n",
      "\n",
      "Evaluating golf_ball...\n",
      "\n",
      "Evaluating garbage_truck...\n",
      "\n",
      "Evaluating parachute...\n",
      "\n",
      "Evaluating cassette_player...\n",
      "\n",
      "Evaluation Results:\n",
      "\n",
      "chainsaw:\n",
      "Accuracy: 99.12%\n",
      "Average Confidence: 97.96%\n",
      "Most commonly predicted as:\n",
      "  - chainsaw: 33.3% of predictions\n",
      "  - parachute: 11.1% of predictions\n",
      "  - golf_ball: 10.8% of predictions\n",
      "\n",
      "gas_pump:\n",
      "Accuracy: 98.89%\n",
      "Average Confidence: 96.78%\n",
      "Most commonly predicted as:\n",
      "  - gas_pump: 33.2% of predictions\n",
      "  - chainsaw: 12.5% of predictions\n",
      "  - church: 11.3% of predictions\n",
      "\n",
      "tench:\n",
      "Accuracy: 99.58%\n",
      "Average Confidence: 99.06%\n",
      "Most commonly predicted as:\n",
      "  - tench: 33.3% of predictions\n",
      "  - golf_ball: 17.8% of predictions\n",
      "  - french_horn: 10.9% of predictions\n",
      "\n",
      "french_horn:\n",
      "Accuracy: 99.09%\n",
      "Average Confidence: 96.74%\n",
      "Most commonly predicted as:\n",
      "  - french_horn: 33.3% of predictions\n",
      "  - golf_ball: 14.7% of predictions\n",
      "  - cassette_player: 12.5% of predictions\n",
      "\n",
      "church:\n",
      "Accuracy: 99.06%\n",
      "Average Confidence: 97.54%\n",
      "Most commonly predicted as:\n",
      "  - church: 33.3% of predictions\n",
      "  - parachute: 15.0% of predictions\n",
      "  - golf_ball: 10.4% of predictions\n",
      "\n",
      "english_springer:\n",
      "Accuracy: 98.90%\n",
      "Average Confidence: 96.82%\n",
      "Most commonly predicted as:\n",
      "  - english_springer: 33.3% of predictions\n",
      "  - golf_ball: 14.2% of predictions\n",
      "  - chainsaw: 14.2% of predictions\n",
      "\n",
      "golf_ball:\n",
      "Accuracy: 99.62%\n",
      "Average Confidence: 98.19%\n",
      "Most commonly predicted as:\n",
      "  - golf_ball: 33.3% of predictions\n",
      "  - parachute: 16.4% of predictions\n",
      "  - french_horn: 9.9% of predictions\n",
      "\n",
      "garbage_truck:\n",
      "Accuracy: 99.30%\n",
      "Average Confidence: 98.32%\n",
      "Most commonly predicted as:\n",
      "  - garbage_truck: 33.3% of predictions\n",
      "  - chainsaw: 12.6% of predictions\n",
      "  - cassette_player: 11.6% of predictions\n",
      "\n",
      "parachute:\n",
      "Accuracy: 99.31%\n",
      "Average Confidence: 98.12%\n",
      "Most commonly predicted as:\n",
      "  - parachute: 33.3% of predictions\n",
      "  - golf_ball: 22.0% of predictions\n",
      "  - chainsaw: 12.2% of predictions\n",
      "\n",
      "cassette_player:\n",
      "Accuracy: 99.12%\n",
      "Average Confidence: 97.82%\n",
      "Most commonly predicted as:\n",
      "  - cassette_player: 33.3% of predictions\n",
      "  - garbage_truck: 16.0% of predictions\n",
      "  - golf_ball: 15.2% of predictions\n"
     ]
    }
   ],
   "source": [
    "class_names = list(label_map.keys())\n",
    "\n",
    "# Create a dictionary to store results for each class\n",
    "results = {class_name: [] for class_name in class_names}\n",
    "\n",
    "# Process each class\n",
    "for class_name in class_names:\n",
    "    # Get all images for this class from processed folder\n",
    "    class_path = os.path.join('/Users/olicho/Desktop/Programming/adversarial-style-transfer/data/processed', class_name)\n",
    "    images = glob.glob(os.path.join(class_path, '*.jpg'))\n",
    "    \n",
    "    print(f\"\\nEvaluating {class_name}...\")\n",
    "    \n",
    "    # Process each image\n",
    "    for img_path in list(images):  # Convert glob iterator to list before iterating\n",
    "        # Load and preprocess image\n",
    "        img = Image.open(img_path).convert('RGB')\n",
    "        img = img.resize((64, 64), Image.LANCZOS)\n",
    "        img_array = np.array(img) / 255.0\n",
    "        img_tensor = torch.from_numpy(img_array.transpose(2, 0, 1)).float()\n",
    "        img_tensor = img_tensor.unsqueeze(0)\n",
    "        \n",
    "        # Get model prediction\n",
    "        model.eval()\n",
    "        with torch.no_grad():\n",
    "            output = model(img_tensor)\n",
    "            probs = torch.nn.functional.softmax(output, dim=1)[0]\n",
    "            # Get top 3 predictions\n",
    "            top3_prob, top3_idx = torch.topk(probs, 3)\n",
    "            \n",
    "        results[class_name].append({\n",
    "            'top3_classes': [class_names[idx] for idx in top3_idx],\n",
    "            'top3_confidences': [prob.item() for prob in top3_prob]\n",
    "        })\n",
    "\n",
    "# Print summary for each class\n",
    "print(\"\\nEvaluation Results:\")\n",
    "for class_name, predictions in results.items():\n",
    "    total = len(predictions)\n",
    "    \n",
    "    # Calculate accuracy (when true class is top prediction)\n",
    "    correct = sum(1 for p in predictions if p['top3_classes'][0] == class_name)\n",
    "    accuracy = correct / total\n",
    "    \n",
    "    # Calculate average confidence of top prediction\n",
    "    avg_confidence = sum(p['top3_confidences'][0] for p in predictions) / total\n",
    "    \n",
    "    # Count frequency of each predicted class\n",
    "    prediction_counts = {}\n",
    "    for p in predictions:\n",
    "        for pred_class in p['top3_classes']:\n",
    "            prediction_counts[pred_class] = prediction_counts.get(pred_class, 0) + 1\n",
    "    \n",
    "    # Get top 3 most common predictions\n",
    "    most_common = sorted(prediction_counts.items(), key=lambda x: x[1], reverse=True)[:3]\n",
    "    \n",
    "    print(f\"\\n{class_name}:\")\n",
    "    print(f\"Accuracy: {accuracy:.2%}\")\n",
    "    print(f\"Average Confidence: {avg_confidence:.2%}\")\n",
    "    print(\"Most commonly predicted as:\")\n",
    "    for pred_class, count in most_common:\n",
    "        percentage = count / (total * 3) * 100  # Divide by total*3 since each image has 3 predictions\n",
    "        print(f\"  - {pred_class}: {percentage:.1f}% of predictions\")"
   ]
  },
  {
   "cell_type": "code",
   "execution_count": null,
   "metadata": {},
   "outputs": [],
   "source": []
  }
 ],
 "metadata": {
  "kernelspec": {
   "display_name": "Python 3",
   "language": "python",
   "name": "python3"
  },
  "language_info": {
   "codemirror_mode": {
    "name": "ipython",
    "version": 3
   },
   "file_extension": ".py",
   "mimetype": "text/x-python",
   "name": "python",
   "nbconvert_exporter": "python",
   "pygments_lexer": "ipython3",
   "version": "3.11.4"
  }
 },
 "nbformat": 4,
 "nbformat_minor": 2
}
